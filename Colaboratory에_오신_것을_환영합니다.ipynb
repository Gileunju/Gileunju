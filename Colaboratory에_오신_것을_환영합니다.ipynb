{
  "nbformat": 4,
  "nbformat_minor": 0,
  "metadata": {
    "colab": {
      "name": "Colaboratory에 오신 것을 환영합니다",
      "provenance": [],
      "collapsed_sections": [],
      "toc_visible": true,
      "include_colab_link": true
    },
    "kernelspec": {
      "display_name": "Python 3",
      "name": "python3"
    }
  },
  "cells": [
    {
      "cell_type": "markdown",
      "metadata": {
        "id": "view-in-github",
        "colab_type": "text"
      },
      "source": [
        "<a href=\"https://colab.research.google.com/github/Gileunju/Gileunju/blob/main/Colaboratory%EC%97%90_%EC%98%A4%EC%8B%A0_%EA%B2%83%EC%9D%84_%ED%99%98%EC%98%81%ED%95%A9%EB%8B%88%EB%8B%A4.ipynb\" target=\"_parent\"><img src=\"https://colab.research.google.com/assets/colab-badge.svg\" alt=\"Open In Colab\"/></a>"
      ]
    },
    {
      "cell_type": "code",
      "metadata": {
        "id": "fLXNycEwLv-v",
        "outputId": "1f203d24-862a-4d08-f02c-7bcaac36638d",
        "colab": {
          "base_uri": "https://localhost:8080/"
        }
      },
      "source": [
        "score = int(input(\"성적을 입력하시오.:\"))\n",
        "if score >= 60:\n",
        "  print(\"합격입니다.\")\n",
        "else:\n",
        "  print(\"불합격입니다\")"
      ],
      "execution_count": 12,
      "outputs": [
        {
          "output_type": "stream",
          "name": "stdout",
          "text": [
            "성적을 입력하시오.:80\n",
            "합격입니다.\n"
          ]
        }
      ]
    },
    {
      "cell_type": "code",
      "metadata": {
        "id": "WeK74QemMD4S",
        "outputId": "fefa2b05-5c09-4320-cdff-822ef6632b79",
        "colab": {
          "base_uri": "https://localhost:8080/"
        }
      },
      "source": [
        "score = int(input(\"성적을 입력하시오.:\"))\n",
        "if score >= 90:\n",
        "  print(\"성적 A입니다.\")\n",
        "elif score >= 80:\n",
        "  print(\"성적 B입니다.\")\n",
        "else:\n",
        "  print(\"성적 C입니다.\")"
      ],
      "execution_count": 14,
      "outputs": [
        {
          "output_type": "stream",
          "name": "stdout",
          "text": [
            "성적을 입력하시오.:78\n",
            "성적 C입니다.\n"
          ]
        }
      ]
    }
  ]
}