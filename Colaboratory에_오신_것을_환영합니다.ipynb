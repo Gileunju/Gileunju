{
  "nbformat": 4,
  "nbformat_minor": 0,
  "metadata": {
    "colab": {
      "name": "Colaboratory에 오신 것을 환영합니다",
      "provenance": [],
      "collapsed_sections": [],
      "include_colab_link": true
    },
    "kernelspec": {
      "display_name": "Python 3",
      "name": "python3"
    }
  },
  "cells": [
    {
      "cell_type": "markdown",
      "metadata": {
        "id": "view-in-github",
        "colab_type": "text"
      },
      "source": [
        "<a href=\"https://colab.research.google.com/github/Gileunju/Gileunju/blob/Gileunju-patch-4/Colaboratory%EC%97%90_%EC%98%A4%EC%8B%A0_%EA%B2%83%EC%9D%84_%ED%99%98%EC%98%81%ED%95%A9%EB%8B%88%EB%8B%A4.ipynb\" target=\"_parent\"><img src=\"https://colab.research.google.com/assets/colab-badge.svg\" alt=\"Open In Colab\"/></a>"
      ]
    },
    {
      "cell_type": "code",
      "metadata": {
        "id": "Y76ZPt_6aaMy",
        "outputId": "b740732a-41cf-4111-f8aa-08c0b8982876",
        "colab": {
          "base_uri": "https://localhost:8080/"
        }
      },
      "source": [
        "import random\n",
        "\n",
        "tries = 0\n",
        "guess = 0\n",
        "answer = random.randint(1,100)\n",
        "\n",
        "print(\"1부터 100 사이의 숫자를 맞추시오:\")\n",
        "\n",
        "while guess != answer:\n",
        "  if tries < 10:\n",
        "    guess = int(input(\"숫자를 입력하시오:\"))\n",
        "    tries = tries + 1\n",
        "    if guess < answer:\n",
        "      print(\"낮음!\")\n",
        "    elif guess > answer:\n",
        "      print(\"높음!\")\n",
        "  else:\n",
        "    print(\"시도횟수를 초과하였습니다.\")\n",
        "    break\n",
        "\n",
        "\n",
        "\n",
        "if guess == answer:\n",
        "  print(\"축하합니다. 시도횟수= \", tries)\n",
        "else:\n",
        "  print(\"정답은 \", answer)"
      ],
      "execution_count": 5,
      "outputs": [
        {
          "output_type": "stream",
          "name": "stdout",
          "text": [
            "1부터 100 사이의 숫자를 맞추시오:\n",
            "숫자를 입력하시오:50\n",
            "낮음!\n",
            "숫자를 입력하시오:60\n",
            "낮음!\n",
            "숫자를 입력하시오:70\n",
            "높음!\n",
            "숫자를 입력하시오:65\n",
            "높음!\n",
            "숫자를 입력하시오:63\n",
            "높음!\n",
            "숫자를 입력하시오:62\n",
            "축하합니다. 시도횟수=  6\n"
          ]
        }
      ]
    },
    {
      "cell_type": "code",
      "metadata": {
        "id": "pZ7wqksecMOX",
        "outputId": "2608f406-6d69-44c6-f902-99ab8d6bb0cd",
        "colab": {
          "base_uri": "https://localhost:8080/"
        }
      },
      "source": [
        "import random\n",
        "\n",
        "while True:\n",
        "  q = random.randint(0,1)\n",
        "  x = random.randint(1,100)\n",
        "  y = random.randint(1,100)\n",
        "  if (q == 1) & (x > y):\n",
        "    print(x, \"-\", y, \"=\", end=\" \")\n",
        "    answer = int(input())\n",
        "    if answer == x - y:\n",
        "      print(\"잘했어요!!\")\n",
        "    else:\n",
        "      print(\"빼기 공부 더 열심히 하기!\")\n",
        "\n",
        "  else:\n",
        "    print(x, \"+\", y, \"=\", end=\" \")\n",
        "    answer = int(input())\n",
        "    if answer == x + y:\n",
        "      print(\"잘했어요!!\")\n",
        "    else:\n",
        "      print(\"더하기 공부 더 열심히 하기!\")"
      ],
      "execution_count": null,
      "outputs": [
        {
          "output_type": "stream",
          "name": "stdout",
          "text": [
            "2 + 7 = 9\n",
            "잘했어요!!\n",
            "33 + 58 = 91\n",
            "잘했어요!!\n",
            "47 - 1 = 46\n",
            "잘했어요!!\n",
            "61 - 57 = 4\n",
            "잘했어요!!\n",
            "20 + 67 = 88\n",
            "더하기 공부 더 열심히 하기!\n",
            "9 + 58 = 64\n",
            "더하기 공부 더 열심히 하기!\n",
            "32 - 13 = 19\n",
            "잘했어요!!\n",
            "88 + 89 = "
          ]
        }
      ]
    },
    {
      "cell_type": "code",
      "metadata": {
        "id": "A6YNzHQrgFhN",
        "outputId": "0b5a8f58-aa50-4441-815f-2bb0b0929a97",
        "colab": {
          "base_uri": "https://localhost:8080/"
        }
      },
      "source": [
        "import random\n",
        "number = random.randint(1,8)\n",
        "\n",
        "list = [\"한 점의 의심도 없이 맞습니다.\", \"할 수 있습니다.\", \"물론입니다.\", \"글쎄요. 열심히 해야 할 것입니다.\"\n",
        "        \"안 될 것 같습니다.\", \"조금 더 노력하세요.\", \"행운을 빕니다.\", \"다음 달에 할 수 있을 겁니다.\"]\n",
        "\n",
        "while True:\n",
        "  name = input(\"이름:(종료하려면 엔터키) \")\n",
        "  if name == \"\":\n",
        "    break;\n",
        "  question = input(\"무엇에 대하여 알고 싶은가요?\")\n",
        "  print(name, \"님\", \"\\\"\", question, \"\\\"에 대하여 질문 주셨군요\")\n",
        "  print(\"운명의 주사위를 굴려볼게요...\")\n",
        "  print(list[number-1])"
      ],
      "execution_count": 16,
      "outputs": [
        {
          "name": "stdout",
          "output_type": "stream",
          "text": [
            "이름:(종료하려면 엔터키) 길은주\n",
            "무엇에 대하여 알고 싶은가요?내일날씨는?\n",
            "길은주 님 \" 내일날씨는? \"에 대하여 질문 주셨군요\n",
            "운명의 주사위를 굴려볼게요...\n",
            "글쎄요. 열심히 해야 할 것입니다.안 될 것 같습니다.\n",
            "이름:(종료하려면 엔터키) \n"
          ]
        }
      ]
    },
    {
      "cell_type": "code",
      "metadata": {
        "id": "xPAYxGGHi3z6",
        "outputId": "d2983562-bb45-4e94-e8a7-e58f28dab050",
        "colab": {
          "base_uri": "https://localhost:8080/"
        }
      },
      "source": [
        "name = input(\"이름을 임력하시오:\")\n",
        "age = int(input(\"나이를 입력하시오:\"))\n",
        "year = 2021-age+100\n",
        "print(name + \"씨는\" + str(year) + \"년에 100살이시네요!\")"
      ],
      "execution_count": 19,
      "outputs": [
        {
          "output_type": "stream",
          "name": "stdout",
          "text": [
            "이름을 임력하시오:길은주\n",
            "나이를 입력하시오:20\n",
            "길은주씨는2101년에 100살이시네요!\n"
          ]
        }
      ]
    },
    {
      "cell_type": "code",
      "metadata": {
        "id": "UoEH0kgmjxBK",
        "outputId": "aea83fab-ec34-449f-bc8c-8e33fa46168d",
        "colab": {
          "base_uri": "https://localhost:8080/"
        }
      },
      "source": [
        "n1 = int(input(\"첫 번째 숫자를 입력하시오:\"))\n",
        "n2 = int(input(\"두 번째 숫자를 입력하시오\"))\n",
        "n3 = int(input(\"세 번째 숫자를 입력하시오\"))\n",
        "\n",
        "average = (n1 + n2 + n3) / 3\n",
        "\n",
        "print(n1, n2, n3, \"의 평균은\", average, \"입니다.\")"
      ],
      "execution_count": 20,
      "outputs": [
        {
          "output_type": "stream",
          "name": "stdout",
          "text": [
            "첫 번째 숫자를 입력하시오:6\n",
            "두 번째 숫자를 입력하시오1\n",
            "세 번째 숫자를 입력하시오5\n",
            "6 1 5 의 평균은 4.0 입니다.\n"
          ]
        }
      ]
    },
    {
      "cell_type": "code",
      "metadata": {
        "id": "us15vlX8j2Tm",
        "outputId": "86f96ae4-9954-4bc0-b37b-34aca4b781ee",
        "colab": {
          "base_uri": "https://localhost:8080/"
        }
      },
      "source": [
        "radius = int(input(\"반지름을 입력하시오:\"))\n",
        "area = 3.141592 * radius * radius\n",
        "print(\"반지름이\", radius, \"인 원의 넓이 =\", area, \"입니다.\")"
      ],
      "execution_count": 26,
      "outputs": [
        {
          "output_type": "stream",
          "name": "stdout",
          "text": [
            "반지름을 입력하시오:16\n",
            "반지름이 16 인 원의 넓이 = 804.247552 입니다.\n"
          ]
        }
      ]
    }
  ]
}