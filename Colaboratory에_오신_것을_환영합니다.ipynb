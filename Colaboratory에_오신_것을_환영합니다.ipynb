{
  "nbformat": 4,
  "nbformat_minor": 0,
  "metadata": {
    "colab": {
      "name": "Colaboratory에 오신 것을 환영합니다",
      "provenance": [],
      "collapsed_sections": [],
      "include_colab_link": true
    },
    "kernelspec": {
      "display_name": "Python 3",
      "name": "python3"
    }
  },
  "cells": [
    {
      "cell_type": "markdown",
      "metadata": {
        "id": "view-in-github",
        "colab_type": "text"
      },
      "source": [
        "<a href=\"https://colab.research.google.com/github/Gileunju/Gileunju/blob/Gileunju-patch-1/Colaboratory%EC%97%90_%EC%98%A4%EC%8B%A0_%EA%B2%83%EC%9D%84_%ED%99%98%EC%98%81%ED%95%A9%EB%8B%88%EB%8B%A4.ipynb\" target=\"_parent\"><img src=\"https://colab.research.google.com/assets/colab-badge.svg\" alt=\"Open In Colab\"/></a>"
      ]
    },
    {
      "cell_type": "code",
      "metadata": {
        "colab": {
          "base_uri": "https://localhost:8080/"
        },
        "id": "JkUr52HAC2t3",
        "outputId": "8fc539f4-e047-43e3-82ec-e17c8bc9dc18"
      },
      "source": [
        "age = 20\n",
        "if age < 20:\n",
        "  print(\"20살 미만\")\n",
        "else:\n",
        "  print(\"20살 이상\")"
      ],
      "execution_count": 1,
      "outputs": [
        {
          "output_type": "stream",
          "name": "stdout",
          "text": [
            "20살 이상\n"
          ]
        }
      ]
    },
    {
      "cell_type": "code",
      "metadata": {
        "colab": {
          "base_uri": "https://localhost:8080/"
        },
        "id": "vHI0CdVBEkUg",
        "outputId": "137434e2-021d-43f8-fc10-6a2098aaa650"
      },
      "source": [
        "age = 20\n",
        "if age <= 30 and age <= 50:\n",
        "  print(\"20살 미만\")\n",
        "else:\n",
        "  print(\"20살 이상\")"
      ],
      "execution_count": 4,
      "outputs": [
        {
          "output_type": "stream",
          "name": "stdout",
          "text": [
            "20살 미만\n"
          ]
        }
      ]
    },
    {
      "cell_type": "code",
      "metadata": {
        "colab": {
          "base_uri": "https://localhost:8080/"
        },
        "id": "x282-HPhDxe_",
        "outputId": "35b09794-2dc7-494f-f4dc-9e9bcdc1dc54"
      },
      "source": [
        "temp = int(input(\"현재 온도를 입력하세요\"))\n",
        "\n",
        "if temp >= 25:\n",
        "  print(\"반바지 입어요\")\n",
        "else:\n",
        "  print(\"긴바지 입어요\")"
      ],
      "execution_count": 3,
      "outputs": [
        {
          "output_type": "stream",
          "name": "stdout",
          "text": [
            "현재 온도를 입력하세요10\n",
            "긴바지 입어요\n"
          ]
        }
      ]
    },
    {
      "cell_type": "code",
      "metadata": {
        "colab": {
          "base_uri": "https://localhost:8080/"
        },
        "id": "fCrSH4MOE8aQ",
        "outputId": "c3ca082b-ea67-4d24-cd02-60d390311b1e"
      },
      "source": [
        "score = int(input(\"점수를 입력하세요:\"))\n",
        "if score >= 90:\n",
        "  print(\"a입니다.\")\n",
        "elif score >= 80:\n",
        "  print(\"b입니다.\")\n",
        "elif score >= 70:\n",
        "  print(\"c입니다.\")\n",
        "elif score >= 60:\n",
        "  print(\"d입니다.\")\n",
        "else:\n",
        "  print(\"f입니다. 내년에 또봐요\")"
      ],
      "execution_count": 10,
      "outputs": [
        {
          "output_type": "stream",
          "name": "stdout",
          "text": [
            "점수를 입력하세요:65\n",
            "d입니다.\n"
          ]
        }
      ]
    },
    {
      "cell_type": "code",
      "metadata": {
        "colab": {
          "base_uri": "https://localhost:8080/"
        },
        "id": "L8Umc5k5F2gC",
        "outputId": "73c6924d-5d02-489f-ce51-95a934eae860"
      },
      "source": [
        "import random\n",
        "x = random.randint(1,100)\n",
        "y = random.randint(1,100)\n",
        "\n",
        "answer = int(input(str(x)+\"-\"+str(y)+\"=\"))\n",
        "if answer == x - y:\n",
        "  print(\"맞았습니다.\")\n",
        "else:\n",
        "  print(\"틀렸습니다.\")"
      ],
      "execution_count": 19,
      "outputs": [
        {
          "output_type": "stream",
          "name": "stdout",
          "text": [
            "3-58=-55\n",
            "맞았습니다.\n"
          ]
        }
      ]
    },
    {
      "cell_type": "code",
      "metadata": {
        "colab": {
          "base_uri": "https://localhost:8080/"
        },
        "id": "sxxbDpGFIDkb",
        "outputId": "d4f95289-6607-48ae-d66d-2f1158cd2870"
      },
      "source": [
        "n = int(input(\"정수를 입력하시오:\"))\n",
        "if n%2 == 0 and n%3 == 0:\n",
        "  print(\"2와 3으로 나누어 떨어져요\")\n",
        "else:\n",
        "  print(\"안 됩니다\")"
      ],
      "execution_count": 20,
      "outputs": [
        {
          "output_type": "stream",
          "name": "stdout",
          "text": [
            "정수를 입력하시오:6\n",
            "2와 3으로 나누어 떨어져요\n"
          ]
        }
      ]
    },
    {
      "cell_type": "code",
      "metadata": {
        "colab": {
          "base_uri": "https://localhost:8080/"
        },
        "id": "EVjU0hSfK_ku",
        "outputId": "a49b9b59-7b42-4940-cd88-5689e66b4fbe"
      },
      "source": [
        "for i in range(2, 101):\n",
        "  if i%2 == 0:\n",
        "    print(i, end = \"\")"
      ],
      "execution_count": 21,
      "outputs": [
        {
          "output_type": "stream",
          "name": "stdout",
          "text": [
            "2468101214161820222426283032343638404244464850525456586062646668707274767880828486889092949698100"
          ]
        }
      ]
    }
  ]
}