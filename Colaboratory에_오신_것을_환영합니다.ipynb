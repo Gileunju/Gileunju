{
  "nbformat": 4,
  "nbformat_minor": 0,
  "metadata": {
    "colab": {
      "name": "Colaboratory에 오신 것을 환영합니다",
      "provenance": [],
      "collapsed_sections": [],
      "include_colab_link": true
    },
    "kernelspec": {
      "display_name": "Python 3",
      "name": "python3"
    }
  },
  "cells": [
    {
      "cell_type": "markdown",
      "metadata": {
        "id": "view-in-github",
        "colab_type": "text"
      },
      "source": [
        "<a href=\"https://colab.research.google.com/github/Gileunju/Gileunju/blob/Gileunju-patch-3/Colaboratory%EC%97%90_%EC%98%A4%EC%8B%A0_%EA%B2%83%EC%9D%84_%ED%99%98%EC%98%81%ED%95%A9%EB%8B%88%EB%8B%A4.ipynb\" target=\"_parent\"><img src=\"https://colab.research.google.com/assets/colab-badge.svg\" alt=\"Open In Colab\"/></a>"
      ]
    },
    {
      "cell_type": "code",
      "metadata": {
        "id": "HWFA5YH_oAa3",
        "outputId": "d18b9e20-4176-4db6-9db7-7ae1b60c1d75",
        "colab": {
          "base_uri": "https://localhost:8080/"
        }
      },
      "source": [
        "import random\n",
        "\n",
        "print(\"주사위 던지기 게임을 시작합니다.\")\n",
        "dice = random.randrange(6)+1\n",
        "print(\"주사위 눈은\" +str(dice)+\"입니다.\")\n",
        "print(\"게임이 종료되었습니다.\")"
      ],
      "execution_count": 3,
      "outputs": [
        {
          "output_type": "stream",
          "name": "stdout",
          "text": [
            "주사위 던지기 게임을 시작합니다.\n",
            "주사위 눈은6입니다.\n",
            "게임이 종료되었습니다.\n"
          ]
        }
      ]
    },
    {
      "cell_type": "code",
      "metadata": {
        "id": "RQmnpDlUoGX6",
        "outputId": "219a8626-c643-456b-978f-f3c059c8e710",
        "colab": {
          "base_uri": "https://localhost:8080/"
        }
      },
      "source": [
        "import random\n",
        "time = random.randint(1,24)\n",
        "print(\"좋은 아침입니다. 지금 시각은 \"+str(time)+\"시 입니다.\")\n",
        "sunny = random.choice([True,False])\n",
        "if sunny:\n",
        "  print(\"현재 날씨가 화창합니다.\")\n",
        "else:\n",
        "  print(\"현재 날씨가 화창하지 않습니다.\")\n",
        "\n",
        "#종달새가 노래를 할 것인지를 판단해보자.\n",
        "if time >= 6 and time <9 and True:\n",
        "  print(\"종달새가 노래를 한다.\")\n",
        "elif time >= 14 and time <16 and True:\n",
        "  print(\"종달새가 노래를 한다.\")\n",
        "else:\n",
        "  print(\"종달새가 노래를 하지 않는다.\")"
      ],
      "execution_count": 6,
      "outputs": [
        {
          "output_type": "stream",
          "name": "stdout",
          "text": [
            "좋은 아침입니다. 지금 시각은 18시 입니다.\n",
            "현재 날씨가 화창하지 않습니다.\n",
            "종달새가 노래를 하지 않는다.\n"
          ]
        }
      ]
    },
    {
      "cell_type": "code",
      "metadata": {
        "id": "CYEm4NLxoiSS",
        "outputId": "819d34d6-06fe-47fe-e5d7-56df6e5059ba",
        "colab": {
          "base_uri": "https://localhost:8080/"
        }
      },
      "source": [
        "id = \"ilovechocolate\"\n",
        "pw = \"654321\"\n",
        "s = input(\"아이디를 입력하시오:\")\n",
        "if s == id:\n",
        "  p = input(\"패스워드를 입력하시오:\")\n",
        "  if p == pw:\n",
        "    print(\"환영합니다.\")\n",
        "  else:\n",
        "    print(\"비밀번호가 잘못되었습니다.\")\n",
        "else:\n",
        "  print(\"아이디를 찾을 수 없습니다.\")"
      ],
      "execution_count": 7,
      "outputs": [
        {
          "output_type": "stream",
          "name": "stdout",
          "text": [
            "아이디를 입력하시오:ilovechocolate\n",
            "패스워드를 입력하시오:54321\n",
            "비밀번호가 잘못되었습니다.\n"
          ]
        }
      ]
    },
    {
      "cell_type": "code",
      "metadata": {
        "id": "WEF-qDXFsXYo",
        "outputId": "3ef6d54a-e539-4186-966b-36143a7e1b9a",
        "colab": {
          "base_uri": "https://localhost:8080/"
        }
      },
      "source": [
        "import random\n",
        "\n",
        "options = [\"왼쪽 상단\", \"왼쪽 하단\", \"중앙\", \"오른쪽 상단\", \"오른쪽 하단\"]\n",
        "computer_choice = random.choice(options)\n",
        "user_choice = input(\"어디를 수비하시겠어요?(왼쪽 상단, 왼쪽 하단, 중앙, 오른쪽 상단, 오른쪽 하단)\")\n",
        "if computer_choice == user_choice:\n",
        "  print(\"수비에 성공하셨습니다.\")\n",
        "else:\n",
        "  print(\"페널티 킥이 성공하였습니다.\")"
      ],
      "execution_count": 9,
      "outputs": [
        {
          "output_type": "stream",
          "name": "stdout",
          "text": [
            "어디를 수비하시겠어요?(왼쪽 상단, 왼쪽 하단, 중앙, 오른쪽 상단, 오른쪽 하단)왼쪽 하단\n",
            "페널티 킥이 성공하였습니다.\n"
          ]
        }
      ]
    },
    {
      "cell_type": "code",
      "metadata": {
        "id": "MWzw2jhbtdMl",
        "outputId": "194850fd-2259-4807-d586-4e9b14bdb446",
        "colab": {
          "base_uri": "https://localhost:8080/"
        }
      },
      "source": [
        "i = 1\n",
        "while i <= 9:\n",
        "  j = 1\n",
        "  while j <= 9:\n",
        "    print(i,\"*\",j,\"=\",i*j)\n",
        "    j = j+1\n",
        "  print(\" \")\n",
        "  i = i + 1"
      ],
      "execution_count": 12,
      "outputs": [
        {
          "output_type": "stream",
          "name": "stdout",
          "text": [
            "1 * 1 = 1\n",
            "1 * 2 = 2\n",
            "1 * 3 = 3\n",
            "1 * 4 = 4\n",
            "1 * 5 = 5\n",
            "1 * 6 = 6\n",
            "1 * 7 = 7\n",
            "1 * 8 = 8\n",
            "1 * 9 = 9\n",
            " \n",
            "2 * 1 = 2\n",
            "2 * 2 = 4\n",
            "2 * 3 = 6\n",
            "2 * 4 = 8\n",
            "2 * 5 = 10\n",
            "2 * 6 = 12\n",
            "2 * 7 = 14\n",
            "2 * 8 = 16\n",
            "2 * 9 = 18\n",
            " \n",
            "3 * 1 = 3\n",
            "3 * 2 = 6\n",
            "3 * 3 = 9\n",
            "3 * 4 = 12\n",
            "3 * 5 = 15\n",
            "3 * 6 = 18\n",
            "3 * 7 = 21\n",
            "3 * 8 = 24\n",
            "3 * 9 = 27\n",
            " \n",
            "4 * 1 = 4\n",
            "4 * 2 = 8\n",
            "4 * 3 = 12\n",
            "4 * 4 = 16\n",
            "4 * 5 = 20\n",
            "4 * 6 = 24\n",
            "4 * 7 = 28\n",
            "4 * 8 = 32\n",
            "4 * 9 = 36\n",
            " \n",
            "5 * 1 = 5\n",
            "5 * 2 = 10\n",
            "5 * 3 = 15\n",
            "5 * 4 = 20\n",
            "5 * 5 = 25\n",
            "5 * 6 = 30\n",
            "5 * 7 = 35\n",
            "5 * 8 = 40\n",
            "5 * 9 = 45\n",
            " \n",
            "6 * 1 = 6\n",
            "6 * 2 = 12\n",
            "6 * 3 = 18\n",
            "6 * 4 = 24\n",
            "6 * 5 = 30\n",
            "6 * 6 = 36\n",
            "6 * 7 = 42\n",
            "6 * 8 = 48\n",
            "6 * 9 = 54\n",
            " \n",
            "7 * 1 = 7\n",
            "7 * 2 = 14\n",
            "7 * 3 = 21\n",
            "7 * 4 = 28\n",
            "7 * 5 = 35\n",
            "7 * 6 = 42\n",
            "7 * 7 = 49\n",
            "7 * 8 = 56\n",
            "7 * 9 = 63\n",
            " \n",
            "8 * 1 = 8\n",
            "8 * 2 = 16\n",
            "8 * 3 = 24\n",
            "8 * 4 = 32\n",
            "8 * 5 = 40\n",
            "8 * 6 = 48\n",
            "8 * 7 = 56\n",
            "8 * 8 = 64\n",
            "8 * 9 = 72\n",
            " \n",
            "9 * 1 = 9\n",
            "9 * 2 = 18\n",
            "9 * 3 = 27\n",
            "9 * 4 = 36\n",
            "9 * 5 = 45\n",
            "9 * 6 = 54\n",
            "9 * 7 = 63\n",
            "9 * 8 = 72\n",
            "9 * 9 = 81\n",
            " \n"
          ]
        }
      ]
    },
    {
      "cell_type": "code",
      "metadata": {
        "id": "bk_LEtnEtxGB"
      },
      "source": [
        ""
      ],
      "execution_count": null,
      "outputs": []
    }
  ]
}