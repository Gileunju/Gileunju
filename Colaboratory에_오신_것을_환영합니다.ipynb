{
  "nbformat": 4,
  "nbformat_minor": 0,
  "metadata": {
    "colab": {
      "name": "Colaboratory에 오신 것을 환영합니다",
      "provenance": [],
      "collapsed_sections": [],
      "include_colab_link": true
    },
    "kernelspec": {
      "display_name": "Python 3",
      "name": "python3"
    }
  },
  "cells": [
    {
      "cell_type": "markdown",
      "metadata": {
        "id": "view-in-github",
        "colab_type": "text"
      },
      "source": [
        "<a href=\"https://colab.research.google.com/github/Gileunju/Gileunju/blob/Gileunju-patch-2/Colaboratory%EC%97%90_%EC%98%A4%EC%8B%A0_%EA%B2%83%EC%9D%84_%ED%99%98%EC%98%81%ED%95%A9%EB%8B%88%EB%8B%A4.ipynb\" target=\"_parent\"><img src=\"https://colab.research.google.com/assets/colab-badge.svg\" alt=\"Open In Colab\"/></a>"
      ]
    },
    {
      "cell_type": "code",
      "metadata": {
        "colab": {
          "base_uri": "https://localhost:8080/"
        },
        "id": "JEmMLf-fgpYL",
        "outputId": "cfa6a4bc-b9a0-4c4c-de14-e822f848c412"
      },
      "source": [
        "print (7+4) #더하기\n",
        "print (7-4) #빼기\n",
        "print (7*4) #곱하기\n",
        "print (7/4) #나누기\n",
        "print (7//4) #나누고 몫만\n",
        "print (7%4) #나누고 나머지만"
      ],
      "execution_count": null,
      "outputs": [
        {
          "output_type": "stream",
          "name": "stdout",
          "text": [
            "11\n",
            "3\n",
            "28\n",
            "1.75\n",
            "1\n",
            "3\n"
          ]
        }
      ]
    },
    {
      "cell_type": "code",
      "metadata": {
        "colab": {
          "base_uri": "https://localhost:8080/"
        },
        "id": "-gIuHjhrkMUa",
        "outputId": "b747d45d-05e8-4149-de7b-93c9d8e0dab1"
      },
      "source": [
        "print(\"안녕하세요?\")\n",
        "name = input(\"이름이 어떻게 되시나요?\")\n",
        "print(\"만나서 반갑습니다.\" + name + \"씨\")\n",
        "print(\"이름의 길이는 다음과 같군요:\", end = \" \")\n",
        "print(len(name))\n",
        "age = int(input(\"나이가 어떻게 되나요?\"))\n",
        "print(\"내년이면\", str(age+1), \"이 되시는군요.\")\n",
        "hobby = input(\"취미가 무엇인가요?\")\n",
        "print(\"네 저도\" + hobby+ \"좋아합니다\")"
      ],
      "execution_count": null,
      "outputs": [
        {
          "output_type": "stream",
          "name": "stdout",
          "text": [
            "안녕하세요?\n",
            "이름이 어떻게 되시나요?길은주\n",
            "만나서 반갑습니다.길은주씨\n",
            "이름의 길이는 다음과 같군요: 3\n",
            "나이가 어떻게 되나요?20\n",
            "내년이면 21 이 되시는군요.\n",
            "취미가 무엇인가요?음악 감상\n",
            "네 저도음악 감상좋아합니다\n"
          ]
        }
      ]
    },
    {
      "cell_type": "code",
      "metadata": {
        "colab": {
          "base_uri": "https://localhost:8080/"
        },
        "id": "mKf8hZipkXhk",
        "outputId": "4fb86a79-c2a3-4899-e3e2-9ecb138a3260"
      },
      "source": [
        "year = input(\"오늘의 연도를 입력하시오:\")\n",
        "month = input(\"오늘의 월을 입력하시오.:\")\n",
        "date = input(\"오늘의 일을 입력하시오:\")\n",
        "\n",
        "print(month+\"/\",date+\"/\",year)"
      ],
      "execution_count": null,
      "outputs": [
        {
          "output_type": "stream",
          "name": "stdout",
          "text": [
            "오늘의 연도를 입력하시오:2021\n",
            "오늘의 월을 입력하시오.:11\n",
            "오늘의 일을 입력하시오:24\n",
            "11/ 24/ 2021\n"
          ]
        }
      ]
    },
    {
      "cell_type": "code",
      "metadata": {
        "colab": {
          "base_uri": "https://localhost:8080/"
        },
        "id": "gv9vvbxglolk",
        "outputId": "30859a04-674e-4054-9dfa-1f5057c10608"
      },
      "source": [
        "import time\n",
        "\n",
        "now = time.time()\n",
        "thisyear = int(1970 + now//(365*24*3600))\n",
        "\n",
        "print(\"올해는\", thisyear, \"입니다.\")\n",
        "age = int(input(\"몇 살이신지요?\"))\n",
        "print(\"2031년에는\", (age+2031-thisyear), \"살 이시군요\")"
      ],
      "execution_count": null,
      "outputs": [
        {
          "output_type": "stream",
          "name": "stdout",
          "text": [
            "올해는 2021 입니다.\n",
            "몇 살이신지요?20\n",
            "2031년에는 30 살 이시군요\n"
          ]
        }
      ]
    },
    {
      "cell_type": "code",
      "metadata": {
        "colab": {
          "base_uri": "https://localhost:8080/"
        },
        "id": "kta99dTOmPQx",
        "outputId": "55ce2245-24d7-4dc8-9106-8a1bcf9c778c"
      },
      "source": [
        "age = int(input(\"나이를 입력하시오:\"))\n",
        "if age >= 20:\n",
        "  print(\"이 음료를 살 수 있습니다. 음료의 가격은 5000원입니다.\")\n",
        "else:\n",
        "  print(\"이 음료를 살 수 없습니다. 다른 음료를 고르세요\")"
      ],
      "execution_count": null,
      "outputs": [
        {
          "output_type": "stream",
          "name": "stdout",
          "text": [
            "나이를 입력하시오:20\n",
            "이 음료를 살 수 있습니다. 음료의 가격은 5000원입니다.\n"
          ]
        }
      ]
    }
  ]
}