{
  "nbformat": 4,
  "nbformat_minor": 0,
  "metadata": {
    "colab": {
      "name": "Colaboratory에 오신 것을 환영합니다",
      "provenance": [],
      "collapsed_sections": [],
      "toc_visible": true,
      "include_colab_link": true
    },
    "kernelspec": {
      "display_name": "Python 3",
      "name": "python3"
    }
  },
  "cells": [
    {
      "cell_type": "markdown",
      "metadata": {
        "id": "view-in-github",
        "colab_type": "text"
      },
      "source": [
        "<a href=\"https://colab.research.google.com/github/Gileunju/Gileunju/blob/main/Colaboratory%EC%97%90_%EC%98%A4%EC%8B%A0_%EA%B2%83%EC%9D%84_%ED%99%98%EC%98%81%ED%95%A9%EB%8B%88%EB%8B%A4.ipynb\" target=\"_parent\"><img src=\"https://colab.research.google.com/assets/colab-badge.svg\" alt=\"Open In Colab\"/></a>"
      ]
    },
    {
      "cell_type": "code",
      "metadata": {
        "id": "bKd3azWm_3y_",
        "outputId": "89bd6bec-e1a2-4bcb-cd66-6db7a32c3fbf",
        "colab": {
          "base_uri": "https://localhost:8080/"
        }
      },
      "source": [
        "total = 200000 #총 재료비용\n",
        "jacket_price = 4000\n",
        "pants_price = 6000\n",
        "skirt_price = 7000\n",
        "\n",
        "jackets = int(input(\"자켓 판매 개수:\"))\n",
        "pantss = int(input(\"바지 판매 개수:\"))\n",
        "skirts = int(input(\"치마 판매 개수:\"))\n",
        "\n",
        "sales = jackets*jacket_price\n",
        "sales = sales + pantss*pants_price\n",
        "sales = sales + skirts*skirt_price\n",
        "print(\"총 매출은\", sales, \"입니다.\")\n",
        "\n",
        "if (total < sales) : print(\"흑자입니다.\")\n",
        "else: print(\"적자입니다.\")"
      ],
      "execution_count": 9,
      "outputs": [
        {
          "output_type": "stream",
          "name": "stdout",
          "text": [
            "자켓 판매 개수:10\n",
            "바지 판매 개수:6\n",
            "치마 판매 개수:12\n",
            "총 매출은 160000 입니다.\n",
            "적자입니다.\n"
          ]
        }
      ]
    },
    {
      "cell_type": "code",
      "metadata": {
        "id": "tZZpDe44EmK7",
        "outputId": "c687ed93-96e4-430b-c35a-e663caacd684",
        "colab": {
          "base_uri": "https://localhost:8080/"
        }
      },
      "source": [
        "ctemp = int(input(\"섭씨온도:\"))\n",
        "ftemp = 9/5*ctemp+32\n",
        "print(\"화씨온도:\",ftemp)"
      ],
      "execution_count": 11,
      "outputs": [
        {
          "output_type": "stream",
          "name": "stdout",
          "text": [
            "섭씨온도:35\n",
            "화씨온도: 95.0\n"
          ]
        }
      ]
    },
    {
      "cell_type": "code",
      "metadata": {
        "id": "DR_11MrAE5ma",
        "outputId": "e46b8cd3-cefd-40b0-b0de-f77234a2ac4b",
        "colab": {
          "base_uri": "https://localhost:8080/"
        }
      },
      "source": [
        "money = int(input(\"투입한 돈:\"))\n",
        "price = int(input(\"물건 값:\"))\n",
        "\n",
        "change = money - price\n",
        "print(\"거스름돈:\", change)\n",
        "coin200s = change // 200\n",
        "change = change % 200\n",
        "coin100s = change // 100\n",
        "change = change % 100\n",
        "coin50s = change // 50\n",
        "change = change % 50\n",
        "coin10s = change // 10\n",
        "change = change % 10\n",
        "print(\"200원 동전의 개수:\", coin200s)\n",
        "print(\"100원 동전의 개수:\", coin100s)\n",
        "print(\"50원 동전의 개수:\", coin50s)\n",
        "print(\"10원 동전의 개수:\", coin10s)"
      ],
      "execution_count": 13,
      "outputs": [
        {
          "output_type": "stream",
          "name": "stdout",
          "text": [
            "투입한 돈:2000\n",
            "물건 값:1160\n",
            "거스름돈: 840\n",
            "200원 동전의 개수: 4\n",
            "100원 동전의 개수: 0\n",
            "50원 동전의 개수: 0\n",
            "10원 동전의 개수: 4\n"
          ]
        }
      ]
    },
    {
      "cell_type": "code",
      "metadata": {
        "id": "x4bVk-LbGF6I",
        "outputId": "f23aaa06-82db-4d2e-afeb-18abca555f49",
        "colab": {
          "base_uri": "https://localhost:8080/"
        }
      },
      "source": [
        "money = int(input(\"투입한 돈:\"))\n",
        "price = int(input(\"물건 값:\"))\n",
        "\n",
        "change = money - price\n",
        "coin200s = change // 200\n",
        "change = change % 200\n",
        "coin100s = change // 100\n",
        "print(\"200원 동전의 개수:\", coin200s)\n",
        "print(\"100원 동전의 개수:\", coin100s)"
      ],
      "execution_count": 14,
      "outputs": [
        {
          "output_type": "stream",
          "name": "stdout",
          "text": [
            "투입한 돈:1600\n",
            "물건 값:1160\n",
            "200원 동전의 개수: 2\n",
            "100원 동전의 개수: 0\n"
          ]
        }
      ]
    }
  ]
}