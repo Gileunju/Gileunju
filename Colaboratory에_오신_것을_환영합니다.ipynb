{
  "cells": [
    {
      "cell_type": "markdown",
      "metadata": {
        "id": "view-in-github",
        "colab_type": "text"
      },
      "source": [
        "<a href=\"https://colab.research.google.com/github/Gileunju/Gileunju/blob/Gileunju-patch-5/Colaboratory%EC%97%90_%EC%98%A4%EC%8B%A0_%EA%B2%83%EC%9D%84_%ED%99%98%EC%98%81%ED%95%A9%EB%8B%88%EB%8B%A4.ipynb\" target=\"_parent\"><img src=\"https://colab.research.google.com/assets/colab-badge.svg\" alt=\"Open In Colab\"/></a>"
      ]
    },
    {
      "cell_type": "code",
      "source": [
        "for i in range(2,101):\n",
        "  if i%2 ==0:\n",
        "    print(i,end=\" \")"
      ],
      "metadata": {
        "id": "t0YJfw6Dn6A2",
        "outputId": "9d569d73-0673-447f-8b9a-d02b554fd003",
        "colab": {
          "base_uri": "https://localhost:8080/"
        }
      },
      "execution_count": 2,
      "outputs": [
        {
          "output_type": "stream",
          "name": "stdout",
          "text": [
            "2 4 6 8 10 12 14 16 18 20 22 24 26 28 30 32 34 36 38 40 42 44 46 48 50 52 54 56 58 60 62 64 66 68 70 72 74 76 78 80 82 84 86 88 90 92 94 96 98 100 "
          ]
        }
      ]
    },
    {
      "cell_type": "code",
      "source": [
        "year = 0\n",
        "balance = 1000\n",
        "\n",
        "while balance <= 2000:\n",
        "  year = year +1\n",
        "  interest = balance * 0.07\n",
        "  balance = balance + interest\n",
        "print(year, \"년이 걸립니다.\")"
      ],
      "metadata": {
        "id": "8-nntfZEo_uH",
        "outputId": "6dbc81c8-012c-46ec-e426-320ef6a42204",
        "colab": {
          "base_uri": "https://localhost:8080/"
        }
      },
      "execution_count": 3,
      "outputs": [
        {
          "output_type": "stream",
          "name": "stdout",
          "text": [
            "11 년이 걸립니다.\n"
          ]
        }
      ]
    },
    {
      "cell_type": "code",
      "source": [
        "n = 1234\n",
        "sum = 0\n",
        "while n > 0:\n",
        "  digit = n % 10\n",
        "  sum = sum + digit\n",
        "  n = n // 10\n",
        "print(sum)"
      ],
      "metadata": {
        "id": "rvvwIGulqC_E",
        "outputId": "404a75fd-62c0-4e92-ada2-36082d1104af",
        "colab": {
          "base_uri": "https://localhost:8080/"
        }
      },
      "execution_count": 6,
      "outputs": [
        {
          "output_type": "stream",
          "name": "stdout",
          "text": [
            "10\n"
          ]
        }
      ]
    },
    {
      "cell_type": "code",
      "source": [
        "ans = 0\n",
        "while ans != 3*9:\n",
        "  ans = int(input(\"3*9는\"))\n",
        "print(\"맞았습니다.\")"
      ],
      "metadata": {
        "id": "9fQSe8dxpURN",
        "outputId": "44bc5f43-a8ce-4f71-8e52-5c757f740832",
        "colab": {
          "base_uri": "https://localhost:8080/"
        }
      },
      "execution_count": 7,
      "outputs": [
        {
          "output_type": "stream",
          "name": "stdout",
          "text": [
            "3*9는27\n",
            "맞았습니다.\n"
          ]
        }
      ]
    },
    {
      "cell_type": "code",
      "source": [
        "sum = 0\n",
        "while True:\n",
        "  x = int(input(\"정수를 입력하시오:\"))\n",
        "  if x == 0:\n",
        "    break;\n",
        "  sum = sum + x\n",
        "\n",
        "print(\"합은\", sum, \"입니다.\")"
      ],
      "metadata": {
        "id": "Tse5bCW_rkjf",
        "outputId": "7a676966-ea02-4430-9689-2c7c62e7f697",
        "colab": {
          "base_uri": "https://localhost:8080/"
        }
      },
      "execution_count": 14,
      "outputs": [
        {
          "output_type": "stream",
          "name": "stdout",
          "text": [
            "정수를 입력하시오:5\n",
            "정수를 입력하시오:4\n",
            "정수를 입력하시오:3\n",
            "정수를 입력하시오:2\n",
            "정수를 입력하시오:1\n",
            "정수를 입력하시오:0\n",
            "합은 15 입니다.\n"
          ]
        }
      ]
    },
    {
      "cell_type": "code",
      "source": [
        "from random import randint\n",
        "\n",
        "for i in range(3):\n",
        "  d1 = randint(1,6)\n",
        "  d2 = randint(1,6)\n",
        "  print(\"첫번째 주사위=\", d1, \"두번째 주사위=\", d2)"
      ],
      "metadata": {
        "id": "o9n_X25hrVK4",
        "outputId": "a83b426c-0877-4671-fa8c-ff55ba6ca198",
        "colab": {
          "base_uri": "https://localhost:8080/"
        }
      },
      "execution_count": 11,
      "outputs": [
        {
          "output_type": "stream",
          "name": "stdout",
          "text": [
            "첫번째 주사위= 5 두번째 주사위= 3\n",
            "첫번째 주사위= 3 두번째 주사위= 2\n",
            "첫번째 주사위= 2 두번째 주사위= 3\n"
          ]
        }
      ]
    },
    {
      "cell_type": "code",
      "source": [
        "def happyBirthday(person):\n",
        "  print(\"Happy Birthday to you!\")\n",
        "  print(\"Happy Birthday to you!\")\n",
        "  print(\"Happy Birthday, dear\" + person)\n",
        "  print(\"Happy Birthday to you!\")\n",
        "\n",
        "happyBirthday(\"길은주\")"
      ],
      "metadata": {
        "id": "pkCSul1Frpzr",
        "outputId": "73955ab0-24f7-4f8e-9993-536455767ee1",
        "colab": {
          "base_uri": "https://localhost:8080/"
        }
      },
      "execution_count": 15,
      "outputs": [
        {
          "output_type": "stream",
          "name": "stdout",
          "text": [
            "Happy Birthday to you!\n",
            "Happy Birthday to you!\n",
            "Happy Birthday, dear길은주\n",
            "Happy Birthday to you!\n"
          ]
        }
      ]
    },
    {
      "cell_type": "code",
      "source": [
        "def sumProblem(x, y):\n",
        "  sum = x + year\n",
        "  sentence = \"정수\" + str(x) + str(y)+\"의 합은?\"\n",
        "  print(sentence)\n",
        "\n",
        "def main():\n",
        "  a = int(input(\"첫번째 정수:\"))\n",
        "  b = int(input(\"두번째 정수:\"))\n",
        "  sumProblem(a, b)\n",
        "\n",
        "main()"
      ],
      "metadata": {
        "id": "V0TMUMqdsJQk",
        "outputId": "4035d3da-d870-4f32-e070-2396dc628b85",
        "colab": {
          "base_uri": "https://localhost:8080/"
        }
      },
      "execution_count": 18,
      "outputs": [
        {
          "output_type": "stream",
          "name": "stdout",
          "text": [
            "첫번째 정수:16\n",
            "두번쨰 정수:61\n",
            "정수1661의 합은?\n"
          ]
        }
      ]
    },
    {
      "cell_type": "code",
      "source": [
        "PI = 3.1459265358979\n",
        "\n",
        "def circleArea(radius):\n",
        "  return PI*radius\n",
        "\n",
        "def circleCircumference(radius):\n",
        "  return 2*PI*radius\n",
        "\n",
        "def main():\n",
        "  print('반지름이 5인 원의 면적:', circleArea(5))\n",
        "  print('반지름이 5인 원의 둘레:', circleCircumference(5))\n",
        "\n",
        "main()"
      ],
      "metadata": {
        "id": "Y4YUjvYPtARU",
        "outputId": "3ae5c4eb-5ba4-4688-81e0-473de96142ff",
        "colab": {
          "base_uri": "https://localhost:8080/"
        }
      },
      "execution_count": 19,
      "outputs": [
        {
          "output_type": "stream",
          "name": "stdout",
          "text": [
            "반지름이 5인 원의 면적: 15.7296326794895\n",
            "반지름이 5인 원의 둘레: 31.459265358979\n"
          ]
        }
      ]
    },
    {
      "cell_type": "code",
      "source": [
        "def add(a, b):\n",
        "  print(\"(%d + %d)\" % (a, b), end=\" \")\n",
        "  return a + b\n",
        "\n",
        "def subtract(a, b):\n",
        "  print(\"(%d + %d)\" % (a, b), end=\" \")\n",
        "  return a - b\n",
        "\n",
        "def multiply(a, b):\n",
        "  print(\"(%d + %d)\" % (a, b), end=\" \")\n",
        "  return a * b\n",
        "\n",
        "def divide(a, b):\n",
        "  print(\"(%d + %d)\" % (a, b), end=\" \")\n",
        "  return a / b\n",
        "\n",
        "what = add(20, 10)\n",
        "print(\"=\", what)"
      ],
      "metadata": {
        "id": "5miywGIjtw-u",
        "outputId": "de298a5a-5f0c-493e-e19c-aafd9947d4f7",
        "colab": {
          "base_uri": "https://localhost:8080/"
        }
      },
      "execution_count": 21,
      "outputs": [
        {
          "output_type": "stream",
          "name": "stdout",
          "text": [
            "(20 + 10) = 30\n"
          ]
        }
      ]
    }
  ],
  "metadata": {
    "colab": {
      "collapsed_sections": [],
      "name": "Colaboratory에 오신 것을 환영합니다",
      "provenance": [],
      "include_colab_link": true
    },
    "kernelspec": {
      "display_name": "Python 3",
      "name": "python3"
    }
  },
  "nbformat": 4,
  "nbformat_minor": 0
}