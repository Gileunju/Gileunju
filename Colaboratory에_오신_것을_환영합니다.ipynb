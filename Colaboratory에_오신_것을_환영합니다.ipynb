{
  "cells": [
    {
      "cell_type": "markdown",
      "metadata": {
        "id": "view-in-github",
        "colab_type": "text"
      },
      "source": [
        "<a href=\"https://colab.research.google.com/github/Gileunju/Gileunju/blob/Gileunju-patch-6/Colaboratory%EC%97%90_%EC%98%A4%EC%8B%A0_%EA%B2%83%EC%9D%84_%ED%99%98%EC%98%81%ED%95%A9%EB%8B%88%EB%8B%A4.ipynb\" target=\"_parent\"><img src=\"https://colab.research.google.com/assets/colab-badge.svg\" alt=\"Open In Colab\"/></a>"
      ]
    },
    {
      "cell_type": "code",
      "source": [
        "alist = []\n",
        "sum = 0\n",
        "\n",
        "for i in range(5):\n",
        "  i = int(input(\"정수를 입력하시오:\"))\n",
        "  alist.append(i)\n",
        "\n",
        "for i in alist:\n",
        "  sum += i\n",
        "avg = sum/len(alist)\n",
        "print(\"평균=\", avg)"
      ],
      "metadata": {
        "id": "eyVZo2af26SH",
        "outputId": "233af844-513e-4a20-ea0f-0d6071dd6fb5",
        "colab": {
          "base_uri": "https://localhost:8080/"
        }
      },
      "execution_count": 2,
      "outputs": [
        {
          "output_type": "stream",
          "name": "stdout",
          "text": [
            "정수를 입력하시오:6\n",
            "정수를 입력하시오:2\n",
            "정수를 입력하시오:2\n",
            "정수를 입력하시오:1\n",
            "정수를 입력하시오:4\n",
            "평균= 3.0\n"
          ]
        }
      ]
    },
    {
      "cell_type": "code",
      "source": [
        "import random\n",
        "counters = [0,0,0,0,0,0]\n",
        "\n",
        "for i in range(1000):\n",
        "  value = random.randint(0,5)\n",
        "  counters[value] = counters[value] +1\n",
        "\n",
        "for i in range(6):\n",
        "  print (\"주사위가 \", i+1, \"인 경우는\", counters[i], \"번\")"
      ],
      "metadata": {
        "id": "J9gJvMuU37j2",
        "outputId": "d143e2e1-6666-4bda-8f36-48afa6408086",
        "colab": {
          "base_uri": "https://localhost:8080/"
        }
      },
      "execution_count": 3,
      "outputs": [
        {
          "output_type": "stream",
          "name": "stdout",
          "text": [
            "주사위가  1 인 경우는 188 번\n",
            "주사위가  2 인 경우는 154 번\n",
            "주사위가  3 인 경우는 159 번\n",
            "주사위가  4 인 경우는 165 번\n",
            "주사위가  5 인 경우는 155 번\n",
            "주사위가  6 인 경우는 179 번\n"
          ]
        }
      ]
    },
    {
      "cell_type": "code",
      "source": [
        "domains = {\"kr\": \"대한민국\", \"us\": \"미국\", \"jp\": \"일본\", \"de\": \"독일\", \"sk\": \"슬로바키아\", \"hu\": \"헝가리\", \"no\": \"노르웨이\" }\n",
        "\n",
        "for k, v in domains.items():\n",
        "  print(k, \":\", v)"
      ],
      "metadata": {
        "id": "gTZdtWSw4YP_",
        "outputId": "9f0cc262-dba0-43ae-d0b1-860e25ab68a5",
        "colab": {
          "base_uri": "https://localhost:8080/"
        }
      },
      "execution_count": 5,
      "outputs": [
        {
          "output_type": "stream",
          "name": "stdout",
          "text": [
            "kr : 대한민국\n",
            "us : 미국\n",
            "jp : 일본\n",
            "de : 독일\n",
            "sk : 슬로바키아\n",
            "hu : 헝가리\n",
            "no : 노르웨이\n"
          ]
        }
      ]
    },
    {
      "cell_type": "code",
      "source": [
        ""
      ],
      "metadata": {
        "id": "mMD-9MYYAfUr"
      },
      "execution_count": null,
      "outputs": []
    }
  ],
  "metadata": {
    "colab": {
      "collapsed_sections": [],
      "name": "Colaboratory에 오신 것을 환영합니다",
      "provenance": [],
      "include_colab_link": true
    },
    "kernelspec": {
      "display_name": "Python 3",
      "name": "python3"
    }
  },
  "nbformat": 4,
  "nbformat_minor": 0
}